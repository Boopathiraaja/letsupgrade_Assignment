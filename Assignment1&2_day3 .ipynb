{
 "cells": [
  {
   "cell_type": "code",
   "execution_count": 3,
   "metadata": {},
   "outputs": [
    {
     "name": "stdout",
     "output_type": "stream",
     "text": [
      "Enter the Altitude:1000\n",
      "Safe to Land\n"
     ]
    }
   ],
   "source": [
    "'''You are a pilots,it is \"safe to land\" a plane,if it is 1000ft.\n",
    "if it is less than that tell pilot to land the plane, or it is more than that but less than 5000ft \n",
    "ask the pilot to \"bring down to 1000ft\" else it is more than 5000ft ask the pilot to \"turn around and \n",
    "try again\"'''\n",
    "\n",
    "altitude=int(input(\"Enter the Altitude:\"))\n",
    "if(altitude<=1000):\n",
    "    print(\"Safe to Land\")\n",
    "elif(altitude>1000 & altitude<5000):\n",
    "    print(\"Bring to 1000 feet\")\n",
    "elif(altitude>5000):\n",
    "    print(\"Turn Around and Try later\")"
   ]
  },
  {
   "cell_type": "code",
   "execution_count": 4,
   "metadata": {},
   "outputs": [
    {
     "name": "stdout",
     "output_type": "stream",
     "text": [
      "2\n",
      "3\n",
      "5\n",
      "7\n",
      "11\n",
      "13\n",
      "17\n",
      "19\n",
      "23\n",
      "29\n",
      "31\n",
      "37\n",
      "41\n",
      "43\n",
      "47\n",
      "53\n",
      "59\n",
      "61\n",
      "67\n",
      "71\n",
      "73\n",
      "79\n",
      "83\n",
      "89\n",
      "97\n",
      "101\n",
      "103\n",
      "107\n",
      "109\n",
      "113\n",
      "127\n",
      "131\n",
      "137\n",
      "139\n",
      "149\n",
      "151\n",
      "157\n",
      "163\n",
      "167\n",
      "173\n",
      "179\n",
      "181\n",
      "191\n",
      "193\n",
      "197\n",
      "199\n"
     ]
    }
   ],
   "source": [
    "#using for loop print all prime number between 1 and 200 along with range function\n",
    "\n",
    "for num in range(2,201):\n",
    "    for i in range(2,num):\n",
    "        if(num%i==0):\n",
    "            break\n",
    "    else:\n",
    "        print(num)"
   ]
  },
  {
   "cell_type": "code",
   "execution_count": null,
   "metadata": {},
   "outputs": [],
   "source": []
  }
 ],
 "metadata": {
  "kernelspec": {
   "display_name": "Python 3",
   "language": "python",
   "name": "python3"
  },
  "language_info": {
   "codemirror_mode": {
    "name": "ipython",
    "version": 3
   },
   "file_extension": ".py",
   "mimetype": "text/x-python",
   "name": "python",
   "nbconvert_exporter": "python",
   "pygments_lexer": "ipython3",
   "version": "3.7.6"
  }
 },
 "nbformat": 4,
 "nbformat_minor": 4
}
