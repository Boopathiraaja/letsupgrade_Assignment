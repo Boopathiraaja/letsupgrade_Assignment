{
  "nbformat": 4,
  "nbformat_minor": 0,
  "metadata": {
    "colab": {
      "name": "Assignment1&2_day9.ipynb",
      "provenance": [],
      "collapsed_sections": []
    },
    "kernelspec": {
      "name": "python3",
      "display_name": "Python 3"
    }
  },
  "cells": [
    {
      "cell_type": "code",
      "metadata": {
        "id": "_-c_k2LW5_S2",
        "colab_type": "code",
        "colab": {
          "base_uri": "https://localhost:8080/",
          "height": 190
        },
        "outputId": "2297ec39-211f-476c-af06-4d0a79e7f4df"
      },
      "source": [
        "! pip install pylint"
      ],
      "execution_count": 25,
      "outputs": [
        {
          "output_type": "stream",
          "text": [
            "Requirement already satisfied: pylint in /usr/local/lib/python3.6/dist-packages (2.6.0)\n",
            "Requirement already satisfied: astroid<=2.5,>=2.4.0 in /usr/local/lib/python3.6/dist-packages (from pylint) (2.4.2)\n",
            "Requirement already satisfied: toml>=0.7.1 in /usr/local/lib/python3.6/dist-packages (from pylint) (0.10.1)\n",
            "Requirement already satisfied: mccabe<0.7,>=0.6 in /usr/local/lib/python3.6/dist-packages (from pylint) (0.6.1)\n",
            "Requirement already satisfied: isort<6,>=4.2.5 in /usr/local/lib/python3.6/dist-packages (from pylint) (5.5.2)\n",
            "Requirement already satisfied: typed-ast<1.5,>=1.4.0; implementation_name == \"cpython\" and python_version < \"3.8\" in /usr/local/lib/python3.6/dist-packages (from astroid<=2.5,>=2.4.0->pylint) (1.4.1)\n",
            "Requirement already satisfied: six~=1.12 in /usr/local/lib/python3.6/dist-packages (from astroid<=2.5,>=2.4.0->pylint) (1.15.0)\n",
            "Requirement already satisfied: lazy-object-proxy==1.4.* in /usr/local/lib/python3.6/dist-packages (from astroid<=2.5,>=2.4.0->pylint) (1.4.3)\n",
            "Requirement already satisfied: wrapt~=1.11 in /usr/local/lib/python3.6/dist-packages (from astroid<=2.5,>=2.4.0->pylint) (1.12.1)\n"
          ],
          "name": "stdout"
        }
      ]
    },
    {
      "cell_type": "code",
      "metadata": {
        "id": "1fPVoO0VpLXO",
        "colab_type": "code",
        "colab": {
          "base_uri": "https://localhost:8080/",
          "height": 34
        },
        "outputId": "3777bd55-81ee-4bf6-b49b-9ef02cd35271"
      },
      "source": [
        "%%writefile prime.py \n",
        "'''\n",
        "this is our module\n",
        "'''\n",
        "def primenum(i):\n",
        "    '''this our program'''\n",
        "    if i <= 1:\n",
        "        return False\n",
        "    for j in range(2, i):\n",
        "        if i % j == 0:\n",
        "            return False\n",
        "    return True\n",
        "        "
      ],
      "execution_count": 39,
      "outputs": [
        {
          "output_type": "stream",
          "text": [
            "Overwriting prime.py\n"
          ],
          "name": "stdout"
        }
      ]
    },
    {
      "cell_type": "code",
      "metadata": {
        "id": "DwVDAs9KpWg4",
        "colab_type": "code",
        "colab": {
          "base_uri": "https://localhost:8080/",
          "height": 85
        },
        "outputId": "0a1daf87-3c8c-4478-f93d-0710e666288e"
      },
      "source": [
        "! pylint \"prime.py\""
      ],
      "execution_count": 40,
      "outputs": [
        {
          "output_type": "stream",
          "text": [
            "\n",
            "--------------------------------------------------------------------\n",
            "Your code has been rated at 10.00/10 (previous run: 10.00/10, +0.00)\n",
            "\n"
          ],
          "name": "stdout"
        }
      ]
    },
    {
      "cell_type": "code",
      "metadata": {
        "id": "eRVWLmmgpjEo",
        "colab_type": "code",
        "colab": {
          "base_uri": "https://localhost:8080/",
          "height": 34
        },
        "outputId": "dcc93f04-7a39-472e-d12a-75b0d001c22a"
      },
      "source": [
        "%%writefile tst.py\n",
        "import prime\n",
        "import unittest\n",
        "class hello(unittest.TestCase):\n",
        "  def test_primenum(self):\n",
        "    a=3\n",
        "    result=prime.primenum(a)\n",
        "    self.assertTrue(result,\"3 is a prime number\")\n",
        "if __name__==\"__main__\":\n",
        "  unittest.main()"
      ],
      "execution_count": 47,
      "outputs": [
        {
          "output_type": "stream",
          "text": [
            "Overwriting tst.py\n"
          ],
          "name": "stdout"
        }
      ]
    },
    {
      "cell_type": "code",
      "metadata": {
        "id": "xSWfI_4-qaE6",
        "colab_type": "code",
        "colab": {
          "base_uri": "https://localhost:8080/",
          "height": 102
        },
        "outputId": "490f8ac7-4afb-44ef-abb9-e5ece09a3523"
      },
      "source": [
        "! python \"tst.py\""
      ],
      "execution_count": 48,
      "outputs": [
        {
          "output_type": "stream",
          "text": [
            ".\n",
            "----------------------------------------------------------------------\n",
            "Ran 1 test in 0.000s\n",
            "\n",
            "OK\n"
          ],
          "name": "stdout"
        }
      ]
    },
    {
      "cell_type": "code",
      "metadata": {
        "id": "H0FT6jpSqaUC",
        "colab_type": "code",
        "colab": {}
      },
      "source": [
        ""
      ],
      "execution_count": null,
      "outputs": []
    },
    {
      "cell_type": "code",
      "metadata": {
        "id": "yhSD9luFqbRD",
        "colab_type": "code",
        "colab": {
          "base_uri": "https://localhost:8080/",
          "height": 34
        },
        "outputId": "8801c27b-3ddc-4b66-ec2a-3afb3732db54"
      },
      "source": [
        "def good(lst):\n",
        "    for num in (lst):\n",
        "        order = len(str(num))    # order of number\n",
        "        sum = 0     # initialize sum\n",
        "        temp = num\n",
        "        while temp > 0:\n",
        "            digit = temp % 10\n",
        "            sum += digit ** order\n",
        "            temp //= 10\n",
        "        if num == sum:\n",
        "            yield(num)\n",
        "lst=list(range(1,1000))\n",
        "print(list(good(lst)))"
      ],
      "execution_count": null,
      "outputs": [
        {
          "output_type": "stream",
          "text": [
            "[1, 2, 3, 4, 5, 6, 7, 8, 9, 153, 370, 371, 407]\n"
          ],
          "name": "stdout"
        }
      ]
    },
    {
      "cell_type": "code",
      "metadata": {
        "id": "FK87Bngsqi0u",
        "colab_type": "code",
        "colab": {}
      },
      "source": [
        ""
      ],
      "execution_count": null,
      "outputs": []
    }
  ]
}