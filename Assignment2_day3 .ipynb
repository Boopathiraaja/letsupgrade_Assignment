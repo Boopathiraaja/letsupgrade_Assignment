{
 "cells": [
  {
   "cell_type": "code",
   "execution_count": 6,
   "metadata": {},
   "outputs": [
    {
     "name": "stdout",
     "output_type": "stream",
     "text": [
      "Enter the Altitude:1000\n",
      "Safe to Land\n"
     ]
    }
   ],
   "source": [
    "'''You are a pilots,it is \"safe to land\" a plane,if it is 1000ft.\n",
    "if it is less than that tell pilot to land the plane, or it is more than that but less than 5000ft \n",
    "ask the pilot to \"bring down to 1000ft\" else it is more than 5000ft ask the pilot to \"turn around and \n",
    "try again\"'''\n",
    "\n",
    "altitude=int(input(\"Enter the Altitude:\"))\n",
    "if(altitude<=1000):\n",
    "    print(\"Safe to Land\")\n",
    "elif(altitude>1000 & altitude<5000):\n",
    "    print(\"Bring to 1000 feet\")\n",
    "elif(altitude>5000):\n",
    "    print(\"Turn Around and Try later\")"
   ]
  },
  {
   "cell_type": "code",
   "execution_count": null,
   "metadata": {},
   "outputs": [],
   "source": []
  }
 ],
 "metadata": {
  "kernelspec": {
   "display_name": "Python 3",
   "language": "python",
   "name": "python3"
  },
  "language_info": {
   "codemirror_mode": {
    "name": "ipython",
    "version": 3
   },
   "file_extension": ".py",
   "mimetype": "text/x-python",
   "name": "python",
   "nbconvert_exporter": "python",
   "pygments_lexer": "ipython3",
   "version": "3.7.6"
  }
 },
 "nbformat": 4,
 "nbformat_minor": 4
}
