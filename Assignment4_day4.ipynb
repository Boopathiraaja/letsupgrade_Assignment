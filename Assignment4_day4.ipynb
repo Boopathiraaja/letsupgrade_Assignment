{
 "cells": [
  {
   "cell_type": "code",
   "execution_count": 2,
   "metadata": {},
   "outputs": [
    {
     "name": "stdout",
     "output_type": "stream",
     "text": [
      "1741725\n"
     ]
    }
   ],
   "source": [
    "'''Use while loop to print the first Amstrong Number in the range of 1042000 to 702648265 and\n",
    "exit the loop as soon as the first amstrong number is encountered'''\n",
    "for num in range(1042000,702648265):\n",
    "    temp=num\n",
    "    sum_value=0\n",
    "    order=len(str(num))\n",
    "    while temp!=0:\n",
    "        digit=temp%10\n",
    "        sum_value+=digit**order\n",
    "        temp//=10\n",
    "    if sum_value==num:\n",
    "        print(num)\n",
    "        break"
   ]
  },
  {
   "cell_type": "code",
   "execution_count": null,
   "metadata": {},
   "outputs": [],
   "source": []
  }
 ],
 "metadata": {
  "kernelspec": {
   "display_name": "Python 3",
   "language": "python",
   "name": "python3"
  },
  "language_info": {
   "codemirror_mode": {
    "name": "ipython",
    "version": 3
   },
   "file_extension": ".py",
   "mimetype": "text/x-python",
   "name": "python",
   "nbconvert_exporter": "python",
   "pygments_lexer": "ipython3",
   "version": "3.7.6"
  }
 },
 "nbformat": 4,
 "nbformat_minor": 4
}
