{
  "nbformat": 4,
  "nbformat_minor": 0,
  "metadata": {
    "kernelspec": {
      "display_name": "Python 3",
      "language": "python",
      "name": "python3"
    },
    "language_info": {
      "codemirror_mode": {
        "name": "ipython",
        "version": 3
      },
      "file_extension": ".py",
      "mimetype": "text/x-python",
      "name": "python",
      "nbconvert_exporter": "python",
      "pygments_lexer": "ipython3",
      "version": "3.7.6"
    },
    "colab": {
      "name": "Assignment5&6&7_day5.ipynb",
      "provenance": []
    }
  },
  "cells": [
    {
      "cell_type": "code",
      "metadata": {
        "id": "OfpyqufW3WPA",
        "colab_type": "code",
        "colab": {},
        "outputId": "3312cc0b-d997-494e-b5f0-a282ae76e749"
      },
      "source": [
        "'''Write a program to identify sublist [1,1,5] is there in the given list in the same order.\n",
        "if yes print \"it's match\" otherwise print \"it's gone\" using function'''\n",
        "def checksublist(lst,sublist):\n",
        "    flag = 0\n",
        "    if(x in lst for x in sublist):\n",
        "        flag = 1\n",
        "    if (flag):\n",
        "        print (\"It's a Match\") \n",
        "    else:\n",
        "        print (\"It's Gone\") \n",
        "\n",
        "sublist=[1,1,5]\n",
        "lst = [] \n",
        "n = int(input(\"Enter number of elements : \"))\n",
        "for i in range(0, n): \n",
        "    ele = int(input()) \n",
        "    lst.append(ele) \n",
        "checksublist(lst,sublist)"
      ],
      "execution_count": null,
      "outputs": [
        {
          "output_type": "stream",
          "text": [
            "Enter number of elements : 3\n",
            "1\n",
            "4\n",
            "5\n",
            "It's a Match\n"
          ],
          "name": "stdout"
        }
      ]
    },
    {
      "cell_type": "code",
      "metadata": {
        "id": "5_kMV-nJ3WPI",
        "colab_type": "code",
        "colab": {},
        "outputId": "e90a5dfc-588c-4af0-dbda-afe26ac3d107"
      },
      "source": [
        "#Make a function for prime Numbers and use filter to filter out all prime numbers from 1 - 2500\n",
        "def primenum(n):\n",
        "    if(n<=1):\n",
        "        return False\n",
        "    if(n!=2 and n%2==0):\n",
        "        return False\n",
        "    if(n!=3 and n%3==0):\n",
        "        return False\n",
        "    if(n!=5 and n%5==0):\n",
        "        return False\n",
        "    if(n!=7 and n%7==0):\n",
        "        return False\n",
        "    else:\n",
        "        return True\n",
        "lst=list(range(2500))\n",
        "print(list(filter(primenum,lst)))"
      ],
      "execution_count": null,
      "outputs": [
        {
          "output_type": "stream",
          "text": [
            "[2, 3, 5, 7, 11, 13, 17, 19, 23, 29, 31, 37, 41, 43, 47, 53, 59, 61, 67, 71, 73, 79, 83, 89, 97, 101, 103, 107, 109, 113, 121, 127, 131, 137, 139, 143, 149, 151, 157, 163, 167, 169, 173, 179, 181, 187, 191, 193, 197, 199, 209, 211, 221, 223, 227, 229, 233, 239, 241, 247, 251, 253, 257, 263, 269, 271, 277, 281, 283, 289, 293, 299, 307, 311, 313, 317, 319, 323, 331, 337, 341, 347, 349, 353, 359, 361, 367, 373, 377, 379, 383, 389, 391, 397, 401, 403, 407, 409, 419, 421, 431, 433, 437, 439, 443, 449, 451, 457, 461, 463, 467, 473, 479, 481, 487, 491, 493, 499, 503, 509, 517, 521, 523, 527, 529, 533, 541, 547, 551, 557, 559, 563, 569, 571, 577, 583, 587, 589, 593, 599, 601, 607, 611, 613, 617, 619, 629, 631, 641, 643, 647, 649, 653, 659, 661, 667, 671, 673, 677, 683, 689, 691, 697, 701, 703, 709, 713, 719, 727, 731, 733, 737, 739, 743, 751, 757, 761, 767, 769, 773, 779, 781, 787, 793, 797, 799, 803, 809, 811, 817, 821, 823, 827, 829, 839, 841, 851, 853, 857, 859, 863, 869, 871, 877, 881, 883, 887, 893, 899, 901, 907, 911, 913, 919, 923, 929, 937, 941, 943, 947, 949, 953, 961, 967, 971, 977, 979, 983, 989, 991, 997, 1003, 1007, 1009, 1013, 1019, 1021, 1027, 1031, 1033, 1037, 1039, 1049, 1051, 1061, 1063, 1067, 1069, 1073, 1079, 1081, 1087, 1091, 1093, 1097, 1103, 1109, 1111, 1117, 1121, 1123, 1129, 1133, 1139, 1147, 1151, 1153, 1157, 1159, 1163, 1171, 1177, 1181, 1187, 1189, 1193, 1199, 1201, 1207, 1213, 1217, 1219, 1223, 1229, 1231, 1237, 1241, 1243, 1247, 1249, 1259, 1261, 1271, 1273, 1277, 1279, 1283, 1289, 1291, 1297, 1301, 1303, 1307, 1313, 1319, 1321, 1327, 1331, 1333, 1339, 1343, 1349, 1357, 1361, 1363, 1367, 1369, 1373, 1381, 1387, 1391, 1397, 1399, 1403, 1409, 1411, 1417, 1423, 1427, 1429, 1433, 1439, 1441, 1447, 1451, 1453, 1457, 1459, 1469, 1471, 1481, 1483, 1487, 1489, 1493, 1499, 1501, 1507, 1511, 1513, 1517, 1523, 1529, 1531, 1537, 1541, 1543, 1549, 1553, 1559, 1567, 1571, 1573, 1577, 1579, 1583, 1591, 1597, 1601, 1607, 1609, 1613, 1619, 1621, 1627, 1633, 1637, 1639, 1643, 1649, 1651, 1657, 1661, 1663, 1667, 1669, 1679, 1681, 1691, 1693, 1697, 1699, 1703, 1709, 1711, 1717, 1721, 1723, 1727, 1733, 1739, 1741, 1747, 1751, 1753, 1759, 1763, 1769, 1777, 1781, 1783, 1787, 1789, 1793, 1801, 1807, 1811, 1817, 1819, 1823, 1829, 1831, 1837, 1843, 1847, 1849, 1853, 1859, 1861, 1867, 1871, 1873, 1877, 1879, 1889, 1891, 1901, 1903, 1907, 1909, 1913, 1919, 1921, 1927, 1931, 1933, 1937, 1943, 1949, 1951, 1957, 1961, 1963, 1969, 1973, 1979, 1987, 1991, 1993, 1997, 1999, 2003, 2011, 2017, 2021, 2027, 2029, 2033, 2039, 2041, 2047, 2053, 2057, 2059, 2063, 2069, 2071, 2077, 2081, 2083, 2087, 2089, 2099, 2101, 2111, 2113, 2117, 2119, 2123, 2129, 2131, 2137, 2141, 2143, 2147, 2153, 2159, 2161, 2167, 2171, 2173, 2179, 2183, 2189, 2197, 2201, 2203, 2207, 2209, 2213, 2221, 2227, 2231, 2237, 2239, 2243, 2249, 2251, 2257, 2263, 2267, 2269, 2273, 2279, 2281, 2287, 2291, 2293, 2297, 2299, 2309, 2311, 2321, 2323, 2327, 2329, 2333, 2339, 2341, 2347, 2351, 2353, 2357, 2363, 2369, 2371, 2377, 2381, 2383, 2389, 2393, 2399, 2407, 2411, 2413, 2417, 2419, 2423, 2431, 2437, 2441, 2447, 2449, 2453, 2459, 2461, 2467, 2473, 2477, 2479, 2483, 2489, 2491, 2497]\n"
          ],
          "name": "stdout"
        }
      ]
    },
    {
      "cell_type": "code",
      "metadata": {
        "id": "gKAHOZQa3WPM",
        "colab_type": "code",
        "colab": {},
        "outputId": "de244304-6367-4aa5-cc3c-c040f812da86"
      },
      "source": [
        "'''Make a lambda function to captitalizing the whole sentance passed using the arguments\n",
        "   and all the sentance in the list, with the lambda function'''\n",
        "lst=['python', 'java', 'c++']\n",
        "cap = list(map(lambda x:x.capitalize(),lst))\n",
        "print(cap) "
      ],
      "execution_count": null,
      "outputs": [
        {
          "output_type": "stream",
          "text": [
            "['Python', 'Java', 'C++']\n"
          ],
          "name": "stdout"
        }
      ]
    },
    {
      "cell_type": "code",
      "metadata": {
        "id": "f0Vjhi0B3WPQ",
        "colab_type": "code",
        "colab": {}
      },
      "source": [
        ""
      ],
      "execution_count": null,
      "outputs": []
    }
  ]
}