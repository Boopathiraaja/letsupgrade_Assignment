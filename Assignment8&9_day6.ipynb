{
  "nbformat": 4,
  "nbformat_minor": 0,
  "metadata": {
    "colab": {
      "name": "Assignment8&9.ipynb",
      "provenance": []
    },
    "kernelspec": {
      "name": "python3",
      "display_name": "Python 3"
    }
  },
  "cells": [
    {
      "cell_type": "code",
      "metadata": {
        "id": "ISzGsPSX5lpA",
        "colab_type": "code",
        "colab": {
          "base_uri": "https://localhost:8080/",
          "height": 833
        },
        "outputId": "090ce27c-f32b-44ac-bd78-d647b07e77c5"
      },
      "source": [
        "'''Create Bank account class that has two attribute\n",
        "   *ownerName\n",
        "   *balance\n",
        "   and two methods\n",
        "   *deposite\n",
        "   *withdraw\n",
        "   as an added requirement the withdraw amount should not exceed avilable balance\n",
        "   Instantiate your Class make several deposites and withdraws and test to make sure the account can't be overdrawn'''\n",
        "class bank:\n",
        "    def __init__(self,ownerName,balance):\n",
        "        self.ownerName=ownerName\n",
        "        self.balance=balance\n",
        "        \n",
        "    def deposite(self):\n",
        "        amount=int(input(\"Enter the amount to be deposited:\"))\n",
        "        self.balance+=amount\n",
        "        print(\"Your Balance is\",self.balance)\n",
        "        print(\"\\n\")\n",
        "        \n",
        "    def withdraw(self):\n",
        "        withdrawAmount=int(input(\"Enter the Amount to be withdrawn:\"))\n",
        "        print(\"Welcome, \",self.ownerName,\" !\")\n",
        "        if(self.balance<withdrawAmount):\n",
        "            print(\"Insufficient balance\")\n",
        "            print(\"Thank you !\")\n",
        "            print(\"\\n\")\n",
        "        if(self.balance>=withdrawAmount):\n",
        "            self.balance-=withdrawAmount\n",
        "            print(\"Your Balance is\",self.balance)\n",
        "            print(\"Thank you !\")\n",
        "            print(\"\\n\")\n",
        "            \n",
        "print(\"\\t\\t\\t\\tWelcome to Banking\")\n",
        "name=input(\"Enter the Account Name:\")\n",
        "init_balance=int(input(\"Enter the Amount to be deposited initially:\"))\n",
        "b=bank(name,init_balance)\n",
        "c=int(input(\"What you like to do \\n1.Deposite Money \\n2.Withdraw Money \\n3.Exit \\nEnter your Choice:\"))\n",
        "print(\"\\n\")\n",
        "while(c<=3):\n",
        "      if(c==1):\n",
        "         b.deposite()\n",
        "         c=int(input(\"What you like to do \\n1.Deposite Money \\n2.Withdraw Money \\n3.Exit \\nEnter your Choice:\"))\n",
        "         print(\"\\n\")\n",
        "         continue\n",
        "      if(c==2):\n",
        "         b.withdraw()\n",
        "         c=int(input(\"What you like to do \\n1.Deposite Money \\n2.Withdraw Money \\n3.Exit \\nEnter your Choice:\"))\n",
        "         print(\"\\n\")\n",
        "         continue\n",
        "      if(c>=3):\n",
        "         print(\"Thank you ! Visit Again !\")\n",
        "         break"
      ],
      "execution_count": 2,
      "outputs": [
        {
          "output_type": "stream",
          "text": [
            "\t\t\t\tWelcome to Banking\n",
            "Enter the Account Name:Boopathi\n",
            "Enter the Amount to be deposited initially:1000\n",
            "What you like to do \n",
            "1.Deposite Money \n",
            "2.Withdraw Money \n",
            "3.Exit \n",
            "Enter your Choice:1\n",
            "\n",
            "\n",
            "Enter the amount to be deposited:1000\n",
            "Your Balance is 2000\n",
            "\n",
            "\n",
            "What you like to do \n",
            "1.Deposite Money \n",
            "2.Withdraw Money \n",
            "3.Exit \n",
            "Enter your Choice:2\n",
            "\n",
            "\n",
            "Enter the Amount to be withdrawn:500\n",
            "Welcome,  Boopathi  !\n",
            "Your Balance is 1500\n",
            "Thank you !\n",
            "\n",
            "\n",
            "What you like to do \n",
            "1.Deposite Money \n",
            "2.Withdraw Money \n",
            "3.Exit \n",
            "Enter your Choice:2\n",
            "\n",
            "\n",
            "Enter the Amount to be withdrawn:2000\n",
            "Welcome,  Boopathi  !\n",
            "Insufficient balance\n",
            "Thank you !\n",
            "\n",
            "\n",
            "What you like to do \n",
            "1.Deposite Money \n",
            "2.Withdraw Money \n",
            "3.Exit \n",
            "Enter your Choice:3\n",
            "\n",
            "\n",
            "Thank you ! Visit Again !\n"
          ],
          "name": "stdout"
        }
      ]
    },
    {
      "cell_type": "code",
      "metadata": {
        "id": "9cxCTWyv5-SF",
        "colab_type": "code",
        "colab": {
          "base_uri": "https://localhost:8080/",
          "height": 85
        },
        "outputId": "b54a05f7-1a5f-4d95-f8e8-78ad28b1fa41"
      },
      "source": [
        "import math\n",
        "from math import pi\n",
        "class cone:\n",
        "  def __init__(self,r,h,s):\n",
        "    self.r=radius\n",
        "    self.h=height\n",
        "    self.s=slantheught\n",
        "#volume of cone  \n",
        "  def volume(r, h): \n",
        "    v=(1/3) * (pi * r * r * h)\n",
        "    return v   \n",
        "# Surface Area of Cone \n",
        "  def surfacearea(r, s): \n",
        "    a=(pi * r * s) + (pi * r * r )\n",
        "    return a\n",
        "r=float(5)\n",
        "h=float(21)\n",
        "s=float(31)\n",
        "print(\"\\n\",round(cone.volume(r,h),2))\n",
        "print(\"\\n\",round(cone.surfacearea(r,s),2))"
      ],
      "execution_count": 6,
      "outputs": [
        {
          "output_type": "stream",
          "text": [
            "\n",
            " 549.78\n",
            "\n",
            " 565.49\n"
          ],
          "name": "stdout"
        }
      ]
    }
  ]
}